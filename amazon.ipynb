{
 "cells": [
  {
   "cell_type": "code",
   "execution_count": null,
   "id": "8c4788bf-14ee-44b6-8252-2a790bbda291",
   "metadata": {},
   "outputs": [],
   "source": []
  }
 ],
 "metadata": {
  "kernelspec": {
   "display_name": "",
   "name": ""
  },
  "language_info": {
   "name": ""
  }
 },
 "nbformat": 4,
 "nbformat_minor": 5
}
