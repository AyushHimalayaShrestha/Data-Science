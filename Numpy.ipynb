{
 "cells": [
  {
   "cell_type": "code",
   "execution_count": null,
   "id": "23731490-7cef-4e24-8abd-9775d95b1852",
   "metadata": {},
   "outputs": [],
   "source": [
    "#Universal Function\n",
    "- it is used to perform element-wise operation on data of array."
   ]
  },
  {
   "cell_type": "code",
   "execution_count": 80,
   "id": "8c146038-fe8d-4e27-b34d-6596d9205966",
   "metadata": {},
   "outputs": [
    {
     "data": {
      "text/plain": [
       "array([0, 1, 2, 3, 4, 5, 6, 7, 8, 9])"
      ]
     },
     "execution_count": 80,
     "metadata": {},
     "output_type": "execute_result"
    }
   ],
   "source": [
    "import numpy as np\n",
    "arr=np.arange(10)\n",
    "arr\n"
   ]
  },
  {
   "cell_type": "code",
   "execution_count": 8,
   "id": "0adaacfd-1b05-46b2-8a52-92bd8915e16b",
   "metadata": {},
   "outputs": [
    {
     "name": "stdout",
     "output_type": "stream",
     "text": [
      "square root:  [0.         1.         1.41421356 1.73205081 2.         2.23606798\n",
      " 2.44948974 2.64575131 2.82842712 3.        ]\n"
     ]
    }
   ],
   "source": [
    "#square root\n",
    "print('square root: ',np.sqrt(arr))"
   ]
  },
  {
   "cell_type": "code",
   "execution_count": 10,
   "id": "32d980e1-7508-4cc4-9c1b-afe995a7a167",
   "metadata": {},
   "outputs": [
    {
     "name": "stdout",
     "output_type": "stream",
     "text": [
      "exponential:  [1.00000000e+00 2.71828183e+00 7.38905610e+00 2.00855369e+01\n",
      " 5.45981500e+01 1.48413159e+02 4.03428793e+02 1.09663316e+03\n",
      " 2.98095799e+03 8.10308393e+03]\n"
     ]
    }
   ],
   "source": [
    "#exponential\n",
    "print('exponential: ',np.exp(arr))"
   ]
  },
  {
   "cell_type": "code",
   "execution_count": 22,
   "id": "b2b8e4ea-7f3a-4d75-9474-40b04bd439a1",
   "metadata": {},
   "outputs": [
    {
     "name": "stdout",
     "output_type": "stream",
     "text": [
      "[0.46765149 0.40713892 0.62137272 0.28218308 0.22034327 0.69665363\n",
      " 0.03047482 0.55866645 0.07287329 0.71186699 0.5574209  0.38877855\n",
      " 0.96585272 0.73292132 0.47775278 0.94716453 0.01125616 0.6673592\n",
      " 0.32746627 0.56109333]\n"
     ]
    }
   ],
   "source": [
    "a=np.random.rand(20)\n",
    "print(a)"
   ]
  },
  {
   "cell_type": "code",
   "execution_count": 46,
   "id": "08bbdc9f-539a-4076-a11f-135d4c0d303a",
   "metadata": {},
   "outputs": [
    {
     "name": "stdout",
     "output_type": "stream",
     "text": [
      "6\n"
     ]
    }
   ],
   "source": [
    "b=np.random.randint(1,7)\n",
    "print(b)"
   ]
  },
  {
   "cell_type": "code",
   "execution_count": 56,
   "id": "abbda3e5-d72b-4ba0-b58d-99c900e85ece",
   "metadata": {},
   "outputs": [
    {
     "name": "stdout",
     "output_type": "stream",
     "text": [
      "[31 25 45 27 44]\n"
     ]
    }
   ],
   "source": [
    "c=np.random.randint(0,50,5)\n",
    "print(c)"
   ]
  },
  {
   "cell_type": "code",
   "execution_count": 68,
   "id": "90bf369c-53b2-4d0b-a970-c42e6210d39a",
   "metadata": {},
   "outputs": [
    {
     "name": "stdout",
     "output_type": "stream",
     "text": [
      "[0.87205121 0.79226398 0.94692437 0.80773721 0.55184586 0.96027432\n",
      " 0.78494359 0.88070867 0.12237028 0.57588545]\n",
      "[0.16355316 0.58278124 0.48393445 0.79503673 0.41937298 0.507573\n",
      " 0.19206201 0.85089142 0.12983782 0.89088049]\n"
     ]
    }
   ],
   "source": [
    "a=np.random.rand(10)\n",
    "b=np.random.rand(10)\n",
    "print (a)\n",
    "print(b)"
   ]
  },
  {
   "cell_type": "code",
   "execution_count": 70,
   "id": "3887e046-1a25-4316-9960-50c53f301749",
   "metadata": {},
   "outputs": [
    {
     "name": "stdout",
     "output_type": "stream",
     "text": [
      "Minimum:  [0.16355316 0.58278124 0.48393445 0.79503673 0.41937298 0.507573\n",
      " 0.19206201 0.85089142 0.12237028 0.57588545]\n",
      "Maximum:  [0.87205121 0.79226398 0.94692437 0.80773721 0.55184586 0.96027432\n",
      " 0.78494359 0.88070867 0.12983782 0.89088049]\n"
     ]
    }
   ],
   "source": [
    "print('Minimum: ',np.minimum(a,b))\n",
    "print('Maximum: ',np.maximum(a,b))"
   ]
  },
  {
   "cell_type": "code",
   "execution_count": 72,
   "id": "79c05cdc-688d-46ba-ad08-7b7213b08bcc",
   "metadata": {},
   "outputs": [
    {
     "data": {
      "text/plain": [
       "0.12237028420002449"
      ]
     },
     "execution_count": 72,
     "metadata": {},
     "output_type": "execute_result"
    }
   ],
   "source": [
    "np.min(a)"
   ]
  },
  {
   "cell_type": "code",
   "execution_count": 74,
   "id": "b507c2cc-24b1-4e50-b766-964528ceaf19",
   "metadata": {},
   "outputs": [
    {
     "data": {
      "text/plain": [
       "0.9602743224505961"
      ]
     },
     "execution_count": 74,
     "metadata": {},
     "output_type": "execute_result"
    }
   ],
   "source": [
    "np.max(a)"
   ]
  },
  {
   "cell_type": "code",
   "execution_count": 82,
   "id": "39794c9a-88ca-43b8-9f38-715734ed5e73",
   "metadata": {},
   "outputs": [
    {
     "data": {
      "text/plain": [
       "9"
      ]
     },
     "execution_count": 82,
     "metadata": {},
     "output_type": "execute_result"
    }
   ],
   "source": [
    "np.min(arr)\n",
    "np.max(arr)"
   ]
  },
  {
   "cell_type": "code",
   "execution_count": 88,
   "id": "aa070d40-3e64-42cb-a9ea-fb811937ac7b",
   "metadata": {},
   "outputs": [
    {
     "name": "stdout",
     "output_type": "stream",
     "text": [
      "[0 1 2 3 4 5 6 7 8 9]\n"
     ]
    },
    {
     "data": {
      "text/plain": [
       "0"
      ]
     },
     "execution_count": 88,
     "metadata": {},
     "output_type": "execute_result"
    }
   ],
   "source": [
    "print(arr)\n",
    "np.min(arr,axis=0)"
   ]
  },
  {
   "cell_type": "code",
   "execution_count": 102,
   "id": "eb48ba67-ea83-4be8-9d4e-0fd23a2801fc",
   "metadata": {},
   "outputs": [
    {
     "data": {
      "text/plain": [
       "array([11, 16,  7,  8,  5,  9, 16, 16, 18, 11])"
      ]
     },
     "execution_count": 102,
     "metadata": {},
     "output_type": "execute_result"
    }
   ],
   "source": [
    "num=np.random.randint(1,20,10)\n",
    "num"
   ]
  },
  {
   "cell_type": "code",
   "execution_count": null,
   "id": "ea3750bd-270c-426b-b042-035af2e86a51",
   "metadata": {},
   "outputs": [],
   "source": []
  },
  {
   "cell_type": "code",
   "execution_count": 104,
   "id": "f38ed133-181d-469d-92d2-d6a5bc139e7a",
   "metadata": {},
   "outputs": [
    {
     "data": {
      "text/plain": [
       "array([4, 2, 3, 5, 0, 9, 1, 6, 7, 8])"
      ]
     },
     "execution_count": 104,
     "metadata": {},
     "output_type": "execute_result"
    }
   ],
   "source": [
    "ind=np.argsort(num,kind='mergsort')\n",
    "ind"
   ]
  },
  {
   "cell_type": "code",
   "execution_count": 106,
   "id": "c9e1e384-ced2-4201-8bc5-f25bf469d981",
   "metadata": {},
   "outputs": [
    {
     "data": {
      "text/plain": [
       "array([ 5,  7,  8,  9, 11, 11, 16, 16, 16, 18])"
      ]
     },
     "execution_count": 106,
     "metadata": {},
     "output_type": "execute_result"
    }
   ],
   "source": [
    "num[ind]"
   ]
  },
  {
   "cell_type": "code",
   "execution_count": 108,
   "id": "ce9a6015-003e-430b-8a49-9d502e464b80",
   "metadata": {},
   "outputs": [
    {
     "data": {
      "text/plain": [
       "array([ 5,  7,  8,  9, 11, 11, 16, 16, 16, 18])"
      ]
     },
     "execution_count": 108,
     "metadata": {},
     "output_type": "execute_result"
    }
   ],
   "source": [
    "np.sort(num)"
   ]
  },
  {
   "cell_type": "code",
   "execution_count": 112,
   "id": "04af247c-f9e8-45c5-a7e1-0dd264a30340",
   "metadata": {},
   "outputs": [
    {
     "data": {
      "text/plain": [
       "array([11, 16,  7,  8,  5,  9, 16, 16, 18, 11])"
      ]
     },
     "execution_count": 112,
     "metadata": {},
     "output_type": "execute_result"
    }
   ],
   "source": [
    "#copy\n",
    "num1=np.copy(num)\n",
    "num1"
   ]
  },
  {
   "cell_type": "code",
   "execution_count": 122,
   "id": "cba81605-5f29-46d7-bff6-80527c200019",
   "metadata": {},
   "outputs": [
    {
     "name": "stdout",
     "output_type": "stream",
     "text": [
      "[[1 2 3]\n",
      " [4 5 6]] (2, 3) 6\n"
     ]
    }
   ],
   "source": [
    "#reshape\n",
    "arr=np.array([[1,2,3],[4,5,6]])\n",
    "print(arr,arr.shape,arr.size)"
   ]
  },
  {
   "cell_type": "code",
   "execution_count": 126,
   "id": "69c8dd13-a702-4995-b898-1ba156129ef0",
   "metadata": {},
   "outputs": [
    {
     "name": "stdout",
     "output_type": "stream",
     "text": [
      "[[1 2]\n",
      " [3 4]\n",
      " [5 6]]\n"
     ]
    }
   ],
   "source": [
    "print(arr.reshape((3,2)))"
   ]
  },
  {
   "cell_type": "raw",
   "id": "5f1cee2d-29b4-4cf5-b777-ac514661980e",
   "metadata": {},
   "source": [
    "arr.resize((2,5))\n",
    "print(arr)"
   ]
  },
  {
   "cell_type": "code",
   "execution_count": null,
   "id": "e2e6c4a7-02d5-4dbd-a705-1105f631b028",
   "metadata": {},
   "outputs": [],
   "source": []
  }
 ],
 "metadata": {
  "kernelspec": {
   "display_name": "Python 3 (ipykernel)",
   "language": "python",
   "name": "python3"
  },
  "language_info": {
   "codemirror_mode": {
    "name": "ipython",
    "version": 3
   },
   "file_extension": ".py",
   "mimetype": "text/x-python",
   "name": "python",
   "nbconvert_exporter": "python",
   "pygments_lexer": "ipython3",
   "version": "3.11.5"
  }
 },
 "nbformat": 4,
 "nbformat_minor": 5
}
