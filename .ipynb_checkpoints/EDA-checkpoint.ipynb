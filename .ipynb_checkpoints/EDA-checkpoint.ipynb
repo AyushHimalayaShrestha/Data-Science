{
 "cells": [
  {
   "cell_type": "code",
   "execution_count": null,
   "metadata": {
    "id": "1Xs5CiutLtf5"
   },
   "outputs": [],
   "source": [
    "import pandas as pd\n",
    "import numpy as np\n",
    "import seaborn as sns\n",
    "import matplotlib.pyplot as plt"
   ]
  },
  {
   "cell_type": "code",
   "execution_count": null,
   "metadata": {
    "id": "i4ZaDkkHL0Oz"
   },
   "outputs": [],
   "source": [
    "df = pd.read_csv('train.csv')"
   ]
  },
  {
   "cell_type": "markdown",
   "metadata": {
    "id": "EPZR9pEJL7n8"
   },
   "source": [
    "### Why do EDA\n",
    "\n",
    "- Model building\n",
    "- Analysis and reporting\n",
    "- Validate assumptions\n",
    "- Handling missing values\n",
    "- feature engineering\n",
    "- detecting outliers"
   ]
  },
  {
   "cell_type": "code",
   "execution_count": null,
   "metadata": {
    "id": "VlNQAIxrL2zw"
   },
   "outputs": [],
   "source": [
    "# Remember it is an iterative process"
   ]
  },
  {
   "cell_type": "markdown",
   "metadata": {
    "id": "HRmn6Gx-MBFQ"
   },
   "source": [
    "### Column Types\n",
    "\n",
    "- **Numerical** - Age,Fare,PassengerId\n",
    "- **Categorical** - Survived, Pclass, Sex, SibSp, Parch,Embarked\n",
    "- **Mixed** - Name, Ticket, Cabin"
   ]
  },
  {
   "cell_type": "markdown",
   "metadata": {
    "id": "_orRwxh_MaJZ"
   },
   "source": [
    "### Univariate Analysis\n",
    "\n",
    "Univariate analysis focuses on analyzing each feature in the dataset independently.\n",
    "\n",
    "- **Distribution analysis**: The distribution of each feature is examined to identify its shape, central tendency, and dispersion.\n",
    "\n",
    "- **Identifying potential issues**: Univariate analysis helps in identifying potential problems with the data such as outliers, skewness, and missing values"
   ]
  },
  {
   "cell_type": "markdown",
   "metadata": {
    "id": "Gsqe-s3hMdYJ"
   },
   "source": [
    "#### The shape of a data distribution refers to its overall pattern or form as it is represented on a graph. Some common shapes of data distributions include:\n",
    "\n",
    "- **Normal Distribution**: A symmetrical and bell-shaped distribution where the mean, median, and mode are equal and the majority of the data falls in the middle of the distribution with gradually decreasing frequencies towards the tails.\n",
    "\n",
    "- **Skewed Distribution**: A distribution that is not symmetrical, with one tail being longer than the other. It can be either positively skewed (right-skewed) or negatively skewed (left-skewed).\n",
    "\n",
    "- **Bimodal Distribution**: A distribution with two peaks or modes.\n",
    "\n",
    "- **Uniform Distribution**: A distribution where all values have an equal chance of occurring.\n",
    "\n",
    "The shape of the data distribution is important in identifying the presence of outliers, skewness, and the type of statistical tests and models that can be used for further analysis."
   ]
  },
  {
   "cell_type": "markdown",
   "metadata": {
    "id": "TbUga2anMmew"
   },
   "source": [
    "#### **Dispersion** is a statistical term used to describe the spread or variability of a set of data. It measures how far the values in a data set are spread out from the central tendency (mean, median, or mode) of the data.\n",
    "\n",
    "There are several measures of dispersion, including:\n",
    "\n",
    "- **Range**: The difference between the largest and smallest values in a data set.\n",
    "\n",
    "- **Variance**: The average of the squared deviations of each value from the mean of the data set.\n",
    "\n",
    "- **Standard Deviation**: The square root of the variance. It provides a measure of the spread of the data that is in the same units as the original data.\n",
    "\n",
    "- **Interquartile range (IQR)**: The range between the first quartile (25th percentile) and the third quartile (75th percentile) of the data.\n",
    "\n",
    "Dispersion helps to describe the spread of the data, which can help to identify the presence of outliers and skewness in the data."
   ]
  },
  {
   "cell_type": "markdown",
   "metadata": {
    "id": "7UKjheaBMwZz"
   },
   "source": [
    "### Steps of doing Univariate Analysis on Numerical columns\n",
    "\n",
    "- **Descriptive Statistics**: Compute basic summary statistics for the column, such as mean, median, mode, standard deviation, range, and quartiles. These statistics give a general understanding of the distribution of the data and can help identify skewness or outliers.\n",
    "\n",
    "- **Visualizations**: Create visualizations to explore the distribution of the data. Some common visualizations for numerical data include histograms, box plots, and density plots. These visualizations provide a visual representation of the distribution of the data and can help identify skewness an outliers.\n",
    "\n",
    "- **Identifying Outliers**: Identify and examine any outliers in the data. Outliers can be identified using visualizations. It is important to determine whether the outliers are due to measurement errors, data entry errors, or legitimate differences in the data, and to decide whether to include or exclude them from the analysis.\n",
    "\n",
    "- **Skewness**: Check for skewness in the data and consider transforming the data or using robust statistical methods that are less sensitive to skewness, if necessary.\n",
    "\n",
    "- **Conclusion**: Summarize the findings of the EDA and make decisions about how to proceed with further analysis.\n"
   ]
  },
  {
   "cell_type": "code",
   "execution_count": null,
   "metadata": {
    "id": "92Z0vOROgdSf"
   },
   "outputs": [],
   "source": []
  },
  {
   "cell_type": "markdown",
   "metadata": {
    "id": "bviDB0DwMx-1"
   },
   "source": [
    "### Steps of doing Univariate Analysis on Categorical columns\n",
    "\n",
    "**Descriptive Statistics**: Compute the frequency distribution of the categories in the column. This will give a general understanding of the distribution of the categories and their relative frequencies.\n",
    "\n",
    "**Visualizations**: Create visualizations to explore the distribution of the categories. Some common visualizations for categorical data include count plots and pie charts. These visualizations provide a visual representation of the distribution of the categories and can help identify any patterns or anomalies in the data.\n",
    "\n",
    "**Missing Values**: Check for missing values in the data and decide how to handle them. Missing values can be imputed or excluded from the analysis, depending on the research question and the data set.\n",
    "\n",
    "**Conclusion**: Summarize the findings of the EDA and make decisions about how to proceed with further analysis."
   ]
  },
  {
   "cell_type": "code",
   "execution_count": null,
   "metadata": {
    "id": "mc4F76vXld9L"
   },
   "outputs": [],
   "source": []
  },
  {
   "cell_type": "code",
   "execution_count": null,
   "metadata": {
    "id": "lyv1CWveleB7"
   },
   "outputs": [],
   "source": []
  },
  {
   "cell_type": "code",
   "execution_count": null,
   "metadata": {
    "id": "C9q7IEo6leGs"
   },
   "outputs": [],
   "source": []
  },
  {
   "cell_type": "markdown",
   "metadata": {
    "id": "Rj31HEuOM6g5"
   },
   "source": [
    "### Steps of doing Bivariate Analysis\n",
    "\n",
    "- Select 2 cols\n",
    "- Understand type of relationship\n",
    "    1. **Numerical - Numerical**<br>\n",
    "        a. You can plot graphs like scatterplot(regression plots), 2D histplot, 2D KDEplots<br>\n",
    "        b. Check correlation coefficent to check linear relationship\n",
    "    2. **Numerical - Categorical** - create visualizations that compare the distribution of the numerical data across different categories of the categorical data.<br>\n",
    "        a. You can plot graphs like barplot, boxplot, kdeplot violinplot even scatterplots<br>\n",
    "    3. **Categorical - Categorical**<br>\n",
    "        a. You can create cross-tabulations or contingency tables that show the distribution of values in one categorical column, grouped by the values in the other categorical column.<br>\n",
    "        b. You can plots like heatmap, stacked barplots, treemaps\n",
    "        \n",
    "- Write your conclusions"
   ]
  },
  {
   "cell_type": "code",
   "execution_count": null,
   "metadata": {
    "id": "oXpbyTdmtb3Q"
   },
   "outputs": [],
   "source": [
    "# Feature Engineering on Fare col"
   ]
  },
  {
   "cell_type": "code",
   "execution_count": null,
   "metadata": {
    "id": "3xgKdcAy5Wo5"
   },
   "outputs": [],
   "source": []
  }
 ],
 "metadata": {
  "colab": {
   "provenance": []
  },
  "kernelspec": {
   "display_name": "Python 3 (ipykernel)",
   "language": "python",
   "name": "python3"
  },
  "language_info": {
   "codemirror_mode": {
    "name": "ipython",
    "version": 3
   },
   "file_extension": ".py",
   "mimetype": "text/x-python",
   "name": "python",
   "nbconvert_exporter": "python",
   "pygments_lexer": "ipython3",
   "version": "3.10.9"
  }
 },
 "nbformat": 4,
 "nbformat_minor": 4
}
