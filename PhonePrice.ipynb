{
 "cells": [
  {
   "cell_type": "code",
   "execution_count": 1,
   "id": "0d51c35d-b49d-4ccf-a754-2afa682180d0",
   "metadata": {},
   "outputs": [],
   "source": [
    "import numpy as np\n",
    "import pandas as pd\n",
    "import seaborn as sns\n",
    "import matplotlib.pyplot as plt"
   ]
  },
  {
   "cell_type": "code",
   "execution_count": 2,
   "id": "77f597bf-12a3-4f6c-8876-ad4232ed5923",
   "metadata": {},
   "outputs": [
    {
     "data": {
      "text/html": [
       "<div>\n",
       "<style scoped>\n",
       "    .dataframe tbody tr th:only-of-type {\n",
       "        vertical-align: middle;\n",
       "    }\n",
       "\n",
       "    .dataframe tbody tr th {\n",
       "        vertical-align: top;\n",
       "    }\n",
       "\n",
       "    .dataframe thead th {\n",
       "        text-align: right;\n",
       "    }\n",
       "</style>\n",
       "<table border=\"1\" class=\"dataframe\">\n",
       "  <thead>\n",
       "    <tr style=\"text-align: right;\">\n",
       "      <th></th>\n",
       "      <th>Brand</th>\n",
       "      <th>Model</th>\n",
       "      <th>Storage</th>\n",
       "      <th>RAM</th>\n",
       "      <th>Screen Size (inches)</th>\n",
       "      <th>Camera (MP)</th>\n",
       "      <th>Battery Capacity (mAh)</th>\n",
       "      <th>Price ($)</th>\n",
       "    </tr>\n",
       "  </thead>\n",
       "  <tbody>\n",
       "    <tr>\n",
       "      <th>0</th>\n",
       "      <td>Apple</td>\n",
       "      <td>iPhone 13 Pro</td>\n",
       "      <td>128 GB</td>\n",
       "      <td>6 GB</td>\n",
       "      <td>6.1</td>\n",
       "      <td>12 + 12 + 12</td>\n",
       "      <td>3095</td>\n",
       "      <td>999</td>\n",
       "    </tr>\n",
       "    <tr>\n",
       "      <th>1</th>\n",
       "      <td>Samsung</td>\n",
       "      <td>Galaxy S21 Ultra</td>\n",
       "      <td>256 GB</td>\n",
       "      <td>12 GB</td>\n",
       "      <td>6.8</td>\n",
       "      <td>108 + 10 + 10 + 12</td>\n",
       "      <td>5000</td>\n",
       "      <td>1199</td>\n",
       "    </tr>\n",
       "    <tr>\n",
       "      <th>2</th>\n",
       "      <td>OnePlus</td>\n",
       "      <td>9 Pro</td>\n",
       "      <td>128 GB</td>\n",
       "      <td>8 GB</td>\n",
       "      <td>6.7</td>\n",
       "      <td>48 + 50 + 8 + 2</td>\n",
       "      <td>4500</td>\n",
       "      <td>899</td>\n",
       "    </tr>\n",
       "    <tr>\n",
       "      <th>3</th>\n",
       "      <td>Xiaomi</td>\n",
       "      <td>Redmi Note 10 Pro</td>\n",
       "      <td>128 GB</td>\n",
       "      <td>6 GB</td>\n",
       "      <td>6.67</td>\n",
       "      <td>64 + 8 + 5 + 2</td>\n",
       "      <td>5020</td>\n",
       "      <td>279</td>\n",
       "    </tr>\n",
       "    <tr>\n",
       "      <th>4</th>\n",
       "      <td>Google</td>\n",
       "      <td>Pixel 6</td>\n",
       "      <td>128 GB</td>\n",
       "      <td>8 GB</td>\n",
       "      <td>6.4</td>\n",
       "      <td>50 + 12.2</td>\n",
       "      <td>4614</td>\n",
       "      <td>799</td>\n",
       "    </tr>\n",
       "    <tr>\n",
       "      <th>...</th>\n",
       "      <td>...</td>\n",
       "      <td>...</td>\n",
       "      <td>...</td>\n",
       "      <td>...</td>\n",
       "      <td>...</td>\n",
       "      <td>...</td>\n",
       "      <td>...</td>\n",
       "      <td>...</td>\n",
       "    </tr>\n",
       "    <tr>\n",
       "      <th>402</th>\n",
       "      <td>Samsung</td>\n",
       "      <td>Galaxy Note20 5G</td>\n",
       "      <td>128</td>\n",
       "      <td>8</td>\n",
       "      <td>6.7</td>\n",
       "      <td>12+64+12</td>\n",
       "      <td>4300</td>\n",
       "      <td>1049</td>\n",
       "    </tr>\n",
       "    <tr>\n",
       "      <th>403</th>\n",
       "      <td>Xiaomi</td>\n",
       "      <td>Mi 10 Lite 5G</td>\n",
       "      <td>128</td>\n",
       "      <td>6</td>\n",
       "      <td>6.57</td>\n",
       "      <td>48+8+2+2</td>\n",
       "      <td>4160</td>\n",
       "      <td>349</td>\n",
       "    </tr>\n",
       "    <tr>\n",
       "      <th>404</th>\n",
       "      <td>Apple</td>\n",
       "      <td>iPhone 12 Pro Max</td>\n",
       "      <td>128</td>\n",
       "      <td>6</td>\n",
       "      <td>6.7</td>\n",
       "      <td>12+12+12</td>\n",
       "      <td>3687</td>\n",
       "      <td>1099</td>\n",
       "    </tr>\n",
       "    <tr>\n",
       "      <th>405</th>\n",
       "      <td>Oppo</td>\n",
       "      <td>Reno3</td>\n",
       "      <td>128</td>\n",
       "      <td>8</td>\n",
       "      <td>6.4</td>\n",
       "      <td>48+13+8+2</td>\n",
       "      <td>4025</td>\n",
       "      <td>429</td>\n",
       "    </tr>\n",
       "    <tr>\n",
       "      <th>406</th>\n",
       "      <td>Samsung</td>\n",
       "      <td>Galaxy S10 Lite</td>\n",
       "      <td>128</td>\n",
       "      <td>6</td>\n",
       "      <td>6.7</td>\n",
       "      <td>48+12+5</td>\n",
       "      <td>4500</td>\n",
       "      <td>649</td>\n",
       "    </tr>\n",
       "  </tbody>\n",
       "</table>\n",
       "<p>407 rows × 8 columns</p>\n",
       "</div>"
      ],
      "text/plain": [
       "       Brand              Model Storage    RAM  Screen Size (inches)  \\\n",
       "0      Apple      iPhone 13 Pro   128 GB   6 GB                  6.1   \n",
       "1    Samsung   Galaxy S21 Ultra   256 GB  12 GB                  6.8   \n",
       "2    OnePlus              9 Pro   128 GB   8 GB                  6.7   \n",
       "3     Xiaomi  Redmi Note 10 Pro   128 GB   6 GB                 6.67   \n",
       "4     Google            Pixel 6   128 GB   8 GB                  6.4   \n",
       "..       ...                ...      ...    ...                  ...   \n",
       "402  Samsung   Galaxy Note20 5G      128      8                  6.7   \n",
       "403   Xiaomi      Mi 10 Lite 5G      128      6                 6.57   \n",
       "404    Apple  iPhone 12 Pro Max      128      6                  6.7   \n",
       "405     Oppo              Reno3      128      8                  6.4   \n",
       "406  Samsung    Galaxy S10 Lite      128      6                  6.7   \n",
       "\n",
       "            Camera (MP)  Battery Capacity (mAh) Price ($)  \n",
       "0          12 + 12 + 12                    3095       999  \n",
       "1    108 + 10 + 10 + 12                    5000      1199  \n",
       "2       48 + 50 + 8 + 2                    4500       899  \n",
       "3        64 + 8 + 5 + 2                    5020       279  \n",
       "4             50 + 12.2                    4614       799  \n",
       "..                  ...                     ...       ...  \n",
       "402            12+64+12                    4300      1049  \n",
       "403            48+8+2+2                    4160       349  \n",
       "404            12+12+12                    3687      1099  \n",
       "405           48+13+8+2                    4025       429  \n",
       "406             48+12+5                    4500       649  \n",
       "\n",
       "[407 rows x 8 columns]"
      ]
     },
     "execution_count": 2,
     "metadata": {},
     "output_type": "execute_result"
    }
   ],
   "source": [
    "price=pd.read_csv('Mobile phone price.csv')\n",
    "price"
   ]
  },
  {
   "cell_type": "code",
   "execution_count": 3,
   "id": "b9cca418-797b-4052-a5f8-b24466ee07ce",
   "metadata": {},
   "outputs": [
    {
     "name": "stdout",
     "output_type": "stream",
     "text": [
      "<class 'pandas.core.frame.DataFrame'>\n",
      "RangeIndex: 407 entries, 0 to 406\n",
      "Data columns (total 8 columns):\n",
      " #   Column                  Non-Null Count  Dtype \n",
      "---  ------                  --------------  ----- \n",
      " 0   Brand                   407 non-null    object\n",
      " 1   Model                   407 non-null    object\n",
      " 2   Storage                 407 non-null    object\n",
      " 3   RAM                     407 non-null    object\n",
      " 4   Screen Size (inches)    407 non-null    object\n",
      " 5   Camera (MP)             407 non-null    object\n",
      " 6   Battery Capacity (mAh)  407 non-null    int64 \n",
      " 7   Price ($)               407 non-null    object\n",
      "dtypes: int64(1), object(7)\n",
      "memory usage: 25.6+ KB\n"
     ]
    }
   ],
   "source": [
    "price.info()"
   ]
  },
  {
   "cell_type": "code",
   "execution_count": 4,
   "id": "9a5c3e3a-04e8-4f42-9132-314355caa455",
   "metadata": {},
   "outputs": [
    {
     "data": {
      "text/plain": [
       "Brand                     False\n",
       "Model                     False\n",
       "Storage                   False\n",
       "RAM                       False\n",
       "Screen Size (inches)      False\n",
       "Camera (MP)               False\n",
       "Battery Capacity (mAh)    False\n",
       "Price ($)                 False\n",
       "dtype: bool"
      ]
     },
     "execution_count": 4,
     "metadata": {},
     "output_type": "execute_result"
    }
   ],
   "source": [
    "price.isnull().any()"
   ]
  },
  {
   "cell_type": "code",
   "execution_count": 5,
   "id": "8aa7022e-6f59-49c8-8edc-38f8c63929d5",
   "metadata": {},
   "outputs": [
    {
     "data": {
      "text/plain": [
       "True"
      ]
     },
     "execution_count": 5,
     "metadata": {},
     "output_type": "execute_result"
    }
   ],
   "source": [
    "price.duplicated().any()"
   ]
  },
  {
   "cell_type": "code",
   "execution_count": 6,
   "id": "d9efcf4e-71b8-44c4-a952-675b352e4485",
   "metadata": {},
   "outputs": [
    {
     "data": {
      "text/plain": [
       "26"
      ]
     },
     "execution_count": 6,
     "metadata": {},
     "output_type": "execute_result"
    }
   ],
   "source": [
    "price.duplicated().sum()"
   ]
  },
  {
   "cell_type": "code",
   "execution_count": 7,
   "id": "7b1b141d-6605-41b4-8910-7e49f0db1100",
   "metadata": {},
   "outputs": [],
   "source": [
    "price.drop_duplicates(inplace=True)"
   ]
  },
  {
   "cell_type": "code",
   "execution_count": 8,
   "id": "72b2474f-fc90-404d-8864-bb54e3eee464",
   "metadata": {},
   "outputs": [],
   "source": [
    "price.reset_index(drop=True, inplace=True)"
   ]
  },
  {
   "cell_type": "code",
   "execution_count": 9,
   "id": "490b07fe-5e6c-41db-a494-4896ea5338a6",
   "metadata": {},
   "outputs": [
    {
     "name": "stdout",
     "output_type": "stream",
     "text": [
      "<class 'pandas.core.frame.DataFrame'>\n",
      "RangeIndex: 381 entries, 0 to 380\n",
      "Data columns (total 8 columns):\n",
      " #   Column                  Non-Null Count  Dtype \n",
      "---  ------                  --------------  ----- \n",
      " 0   Brand                   381 non-null    object\n",
      " 1   Model                   381 non-null    object\n",
      " 2   Storage                 381 non-null    object\n",
      " 3   RAM                     381 non-null    object\n",
      " 4   Screen Size (inches)    381 non-null    object\n",
      " 5   Camera (MP)             381 non-null    object\n",
      " 6   Battery Capacity (mAh)  381 non-null    int64 \n",
      " 7   Price ($)               381 non-null    object\n",
      "dtypes: int64(1), object(7)\n",
      "memory usage: 23.9+ KB\n"
     ]
    }
   ],
   "source": [
    "price.info()"
   ]
  },
  {
   "cell_type": "code",
   "execution_count": 10,
   "id": "48158fa7-64d6-4b5a-b066-41f3ddc000e7",
   "metadata": {},
   "outputs": [
    {
     "data": {
      "text/plain": [
       "16"
      ]
     },
     "execution_count": 10,
     "metadata": {},
     "output_type": "execute_result"
    }
   ],
   "source": [
    "price['Brand'].nunique()"
   ]
  },
  {
   "cell_type": "code",
   "execution_count": 11,
   "id": "1181a6fc-9d12-44d2-8096-0e4a277a1552",
   "metadata": {},
   "outputs": [
    {
     "data": {
      "image/png": "[encoded data removed]",
      "text/plain": [
       "<Figure size 1500x500 with 1 Axes>"
      ]
     },
     "metadata": {},
     "output_type": "display_data"
    }
   ],
   "source": [
    "plt.figure(figsize=(15,5))\n",
    "ax=sns.countplot(x=price['Brand'])\n",
    "for container in ax.containers:\n",
    "    ax.bar_label(container, fmt ='%.01f%%', label_type='edge', padding=3)\n",
    "plt.grid()\n",
    "plt.show()"
   ]
  },
  {
   "cell_type": "code",
   "execution_count": 12,
   "id": "3e4ef3b6-ae95-429c-b91e-290ec9067232",
   "metadata": {},
   "outputs": [
    {
     "name": "stdout",
     "output_type": "stream",
     "text": [
      "[<BarContainer object of 16 artists>]\n"
     ]
    }
   ],
   "source": [
    "print(ax.containers)"
   ]
  },
  {
   "cell_type": "code",
   "execution_count": 13,
   "id": "ba299bb5-5627-4982-99f9-daa2b3fa7a4d",
   "metadata": {},
   "outputs": [
    {
     "data": {
      "text/plain": [
       "array(['Apple', 'Samsung', 'OnePlus', 'Xiaomi', 'Google', 'Oppo', 'Vivo',\n",
       "       'Realme', 'Motorola', 'Nokia', 'Sony', 'LG', 'Asus', 'Blackberry',\n",
       "       'CAT', 'Huawei'], dtype=object)"
      ]
     },
     "execution_count": 13,
     "metadata": {},
     "output_type": "execute_result"
    }
   ],
   "source": [
    "price['Brand'].unique()"
   ]
  },
  {
   "cell_type": "code",
   "execution_count": 14,
   "id": "6c8f3669-70a9-461f-b0d1-3152222b31a5",
   "metadata": {},
   "outputs": [
    {
     "data": {
      "text/plain": [
       "16"
      ]
     },
     "execution_count": 14,
     "metadata": {},
     "output_type": "execute_result"
    }
   ],
   "source": [
    "price['Brand'].nunique()"
   ]
  },
  {
   "cell_type": "code",
   "execution_count": 15,
   "id": "45e097a1-34e4-4041-808d-11552221f79b",
   "metadata": {},
   "outputs": [
    {
     "data": {
      "text/plain": [
       "239"
      ]
     },
     "execution_count": 15,
     "metadata": {},
     "output_type": "execute_result"
    }
   ],
   "source": [
    "price['Model'].nunique()"
   ]
  },
  {
   "cell_type": "code",
   "execution_count": 16,
   "id": "68714529-f5b5-4c22-b388-306fdbc30643",
   "metadata": {},
   "outputs": [
    {
     "data": {
      "text/plain": [
       "array(['iPhone 13 Pro', 'Galaxy S21 Ultra', '9 Pro', 'Redmi Note 10 Pro',\n",
       "       'Pixel 6', 'iPhone 13', 'Galaxy Z Flip3', 'Poco X3 Pro',\n",
       "       'Reno6 Pro+ 5G', 'X70 Pro+', 'Nord CE 5G', 'Galaxy A52s 5G',\n",
       "       'GT Neo2', 'iPhone 12 Mini', 'Find X3 Pro', 'Mi 11 Lite 5G NE',\n",
       "       'Galaxy S21', 'Y20s (G)', '8s 5G', 'A94', 'Redmi 10 Prime',\n",
       "       'Galaxy A22 5G', 'Narzo 50 Pro 5G', '9', 'Redmi Note 10 Pro Max',\n",
       "       'iPhone 11', 'Galaxy A03s', 'A74 5G', 'Y12s (2021)', '9i',\n",
       "       'Galaxy M52 5G', 'Redmi 10', 'iPhone SE (2nd Gen)', 'A53s', 'Y33s',\n",
       "       'C25s', 'Galaxy A22 4G', 'Nord 2 5G', 'Poco M3 Pro 5G',\n",
       "       'iPhone XR', 'A16', 'C21Y', 'Galaxy F22', 'F19 Pro+ 5G', 'Mi 11X',\n",
       "       'V21e', '8 5G', 'Galaxy M12', 'A16s', 'Redmi 9 Power',\n",
       "       'iPhone 11 Pro Max', 'Y20G', 'Narzo 50i', 'A54', 'Redmi 9T',\n",
       "       'iPhone 13 Pro Max', 'Y33', 'Galaxy A72', 'Reno6 Pro 5G',\n",
       "       'iPhone SE (2020)', 'Y53s', '7i', 'Galaxy A52 5G', 'F19 Pro',\n",
       "       'Redmi Note 10S', 'Y21s', 'Mi 11 Lite 5G', 'X60 Pro', 'Narzo 50A',\n",
       "       'Nord 2', 'Poco X4 Pro', 'GT Master Edition', 'Reno6 Pro+',\n",
       "       'Edge 20 Pro', 'XR20', 'Xperia 5 III', 'Wing', 'Zenfone 8 Flip',\n",
       "       'KEY2 LE', 'F19 Pro+', 'Moto G60', '5.4', 'K92 5G', 'Zenfone 8',\n",
       "       'KEY2', 'S42', 'Galaxy Z Flip 3', 'Mi 11 Ultra', 'Y12A',\n",
       "       'C20 Plus', 'Galaxy S20 FE 5G', 'Moto E7i Power', 'ROG Phone 5',\n",
       "       'Velvet 5G', 'Evolve', 'Reno 6 Pro+', 'Moto G50', 'G20',\n",
       "       'Galaxy M32', '8i', 'C30', 'Galaxy A32', 'Moto G Stylus 5G',\n",
       "       'Galaxy A21s', 'Y12s', 'F19s', 'Narzo 30 Pro 5G', 'Moto G Pure',\n",
       "       'Reno6 Z 5G', 'Galaxy S21 Ultra 5G', 'G50', 'Redmi 9 Activ',\n",
       "       'A54s', 'Galaxy M22', 'Moto G Power 2022', 'Poco X3 GT',\n",
       "       'Galaxy F42 5G', 'Edge 20 Fusion', 'C21', 'V21 5G',\n",
       "       'Redmi Note 9 Pro Max', 'Moto G Power 2021', 'V21e 5G', 'A53s 5G',\n",
       "       'Mi 11 Lite NE', 'Moto G Stylus 2021', 'A54s 5G', 'Galaxy F41',\n",
       "       'Galaxy M52', 'Moto G50s', 'Galaxy A13', 'Galaxy A42 5G',\n",
       "       'Moto G9 Power Lite', 'Galaxy A22', 'A74', 'Y72 5G', 'Mi 10i',\n",
       "       'Narzo 30 Pro', 'Galaxy M62', 'Galaxy A12', 'A15s', 'C11 2021',\n",
       "       'Redmi 9i', 'A53', '7 5G', 'Galaxy M31s', 'A15', 'G10', 'C25',\n",
       "       'X20', 'Y20s G', 'Reno 6 Pro 5G', 'Y31s', 'Galaxy A32 5G',\n",
       "       'Redmi Note 10', 'V20 SE', '3.4', 'C20', '1.4', 'Galaxy A02s',\n",
       "       'Y51A', 'Narzo 20', '5.3', 'Redmi Note 8', 'Galaxy M11', 'Y20s',\n",
       "       'C11', '2.4', 'Redmi 9', 'Galaxy A11', 'A12', 'C15', '3.1 Plus',\n",
       "       'Redmi Note 7', 'A31', 'Y15', 'Narzo 10A', 'Galaxy A30s',\n",
       "       'Galaxy Note 20 Ultra', 'Pixel 5', 'Mate 40 Pro', 'Nord N10 5G',\n",
       "       'Reno 5 Pro 5G', 'Galaxy A71', '8.3 5G', 'Mi 11',\n",
       "       'Moto G Power (2021)', 'Pixel 4a 5G', 'Nova 8 Pro 5G',\n",
       "       'Galaxy A52', '8T', 'G50 5G', 'Find X3 Neo 5G', 'P40 Pro',\n",
       "       'Moto G Stylus (2021)', 'Pixel 4', 'iPhone 12', 'A94 5G',\n",
       "       'Nova 9 Pro 5G', 'Galaxy S10 Lite', '8 Pro', '7.2', 'Mi 10T Pro',\n",
       "       'Mate 30 Pro 5G', 'Galaxy M51', 'Reno4 Pro 5G', 'Moto G9 Plus',\n",
       "       'iPhone XS Max', 'Redmi Note 9S', 'A92', 'P30 Pro', '7 Pro', '6.2',\n",
       "       'Mi 10T Lite', 'iPhone 8 Plus', 'Moto G8 Power', 'Nova 7i',\n",
       "       'Galaxy S21+ 5G', 'Mi 11 Lite', 'Nord', 'Moto G10', 'P40 Pro+',\n",
       "       'Galaxy Note20 5G', 'Poco M3', 'Galaxy S20 Ultra 5G',\n",
       "       'iPhone 12 mini', 'Moto G9 Power', 'Galaxy Z Fold2 5G',\n",
       "       'Mi 10T Pro 5G', 'Redmi 9C', 'Y7p', 'iPhone 12 Pro', '7', 'A93',\n",
       "       'Moto G Pro', 'P30 Lite', 'Mi 10 Lite 5G', 'iPhone 12 Pro Max',\n",
       "       'Reno3'], dtype=object)"
      ]
     },
     "execution_count": 16,
     "metadata": {},
     "output_type": "execute_result"
    }
   ],
   "source": [
    "price['Model'].unique()"
   ]
  },
  {
   "cell_type": "code",
   "execution_count": 17,
   "id": "28ceec9a-fa5d-4648-8243-dad83e4429e4",
   "metadata": {},
   "outputs": [
    {
     "data": {
      "text/plain": [
       "0      128 GB\n",
       "1      256 GB\n",
       "2      128 GB\n",
       "3      128 GB\n",
       "4      128 GB\n",
       "        ...  \n",
       "376       128\n",
       "377       128\n",
       "378       128\n",
       "379       128\n",
       "380       128\n",
       "Name: Storage , Length: 381, dtype: object"
      ]
     },
     "execution_count": 17,
     "metadata": {},
     "output_type": "execute_result"
    }
   ],
   "source": [
    "price['Storage ']"
   ]
  },
  {
   "cell_type": "code",
   "execution_count": 18,
   "id": "ff778586-ca9f-451e-97a9-4513b2d4060d",
   "metadata": {},
   "outputs": [],
   "source": [
    "price.rename(columns={'Storage ': 'Storage'}, inplace=True)"
   ]
  },
  {
   "cell_type": "code",
   "execution_count": 19,
   "id": "5eda8b92-55da-4aa9-8c16-cbcfb36d0768",
   "metadata": {},
   "outputs": [
    {
     "data": {
      "text/plain": [
       "Index(['Brand', 'Model', 'Storage', 'RAM ', 'Screen Size (inches)',\n",
       "       'Camera (MP)', 'Battery Capacity (mAh)', 'Price ($)'],\n",
       "      dtype='object')"
      ]
     },
     "execution_count": 19,
     "metadata": {},
     "output_type": "execute_result"
    }
   ],
   "source": [
    "price.columns"
   ]
  },
  {
   "cell_type": "code",
   "execution_count": 20,
   "id": "4bb3f041-21da-4a97-b34e-745662bb3f0a",
   "metadata": {},
   "outputs": [
    {
     "data": {
      "text/plain": [
       "array(['128 GB', '256 GB', '64 GB', '32 GB', '128GB', '256GB', '64GB',\n",
       "       '32GB', '256', '64', '128', '512', '32'], dtype=object)"
      ]
     },
     "execution_count": 20,
     "metadata": {},
     "output_type": "execute_result"
    }
   ],
   "source": [
    "price['Storage'].unique()"
   ]
  },
  {
   "cell_type": "code",
   "execution_count": 21,
   "id": "144cf653-84bf-422d-b21f-ccf75bcfdb0a",
   "metadata": {},
   "outputs": [],
   "source": [
    "price['Storage']=price['Storage'].str.replace(' GB','').str.replace('GB','')"
   ]
  },
  {
   "cell_type": "code",
   "execution_count": 22,
   "id": "0ac601c2-ebff-49f4-8b4d-4755ef652c3a",
   "metadata": {},
   "outputs": [
    {
     "data": {
      "text/plain": [
       "0      128\n",
       "1      256\n",
       "2      128\n",
       "3      128\n",
       "4      128\n",
       "      ... \n",
       "376    128\n",
       "377    128\n",
       "378    128\n",
       "379    128\n",
       "380    128\n",
       "Name: Storage, Length: 381, dtype: object"
      ]
     },
     "execution_count": 22,
     "metadata": {},
     "output_type": "execute_result"
    }
   ],
   "source": [
    "price['Storage']"
   ]
  },
  {
   "cell_type": "code",
   "execution_count": 23,
   "id": "73a5d3cf-8b67-4a4b-bb25-4262b90e6a39",
   "metadata": {},
   "outputs": [],
   "source": [
    "price.rename(columns={'RAM ': 'RAM'}, inplace=True)"
   ]
  },
  {
   "cell_type": "code",
   "execution_count": 24,
   "id": "6f1fa43c-d030-4276-973c-6866f7a220dc",
   "metadata": {},
   "outputs": [
    {
     "data": {
      "text/plain": [
       "0       6 GB\n",
       "1      12 GB\n",
       "2       8 GB\n",
       "3       6 GB\n",
       "4       8 GB\n",
       "       ...  \n",
       "376        4\n",
       "377        8\n",
       "378        6\n",
       "379        6\n",
       "380        8\n",
       "Name: RAM, Length: 381, dtype: object"
      ]
     },
     "execution_count": 24,
     "metadata": {},
     "output_type": "execute_result"
    }
   ],
   "source": [
    "price['RAM']"
   ]
  },
  {
   "cell_type": "code",
   "execution_count": 25,
   "id": "5b0042dd-5ca6-4415-b5c6-7e3e4abff781",
   "metadata": {},
   "outputs": [
    {
     "data": {
      "text/plain": [
       "array(['6 GB', '12 GB', '8 GB', '4 GB', '3 GB', '2 GB', '4GB', '8GB',\n",
       "       '6GB', '12GB', '3GB', '2GB', '5GB', '12', '3', '6', '8', '4', '16',\n",
       "       '2'], dtype=object)"
      ]
     },
     "execution_count": 25,
     "metadata": {},
     "output_type": "execute_result"
    }
   ],
   "source": [
    "price['RAM'].unique()"
   ]
  },
  {
   "cell_type": "code",
   "execution_count": 26,
   "id": "5a4d9061-03b5-4600-a6cf-5e409376e60c",
   "metadata": {},
   "outputs": [],
   "source": [
    "price['RAM']=price['RAM'].str.replace('GB','').str.replace(' GB','')"
   ]
  },
  {
   "cell_type": "code",
   "execution_count": 27,
   "id": "29c8b9f0-eb33-495c-9863-7f0ec6ff9106",
   "metadata": {},
   "outputs": [
    {
     "data": {
      "text/plain": [
       "0       6 \n",
       "1      12 \n",
       "2       8 \n",
       "3       6 \n",
       "4       8 \n",
       "      ... \n",
       "376      4\n",
       "377      8\n",
       "378      6\n",
       "379      6\n",
       "380      8\n",
       "Name: RAM, Length: 381, dtype: object"
      ]
     },
     "execution_count": 27,
     "metadata": {},
     "output_type": "execute_result"
    }
   ],
   "source": [
    "price['RAM']"
   ]
  },
  {
   "cell_type": "code",
   "execution_count": 28,
   "id": "24b3e9ac-5bde-4fe1-bd51-5f3cd21d9eed",
   "metadata": {},
   "outputs": [
    {
     "data": {
      "text/plain": [
       "Index(['Brand', 'Model', 'Storage', 'RAM', 'Screen Size (inches)',\n",
       "       'Camera (MP)', 'Battery Capacity (mAh)', 'Price ($)'],\n",
       "      dtype='object')"
      ]
     },
     "execution_count": 28,
     "metadata": {},
     "output_type": "execute_result"
    }
   ],
   "source": [
    "price.columns"
   ]
  },
  {
   "cell_type": "code",
   "execution_count": 29,
   "id": "bdd261a2-9a35-46ac-a12a-e07602d2305e",
   "metadata": {},
   "outputs": [
    {
     "data": {
      "text/plain": [
       "0       6.1\n",
       "1       6.8\n",
       "2       6.7\n",
       "3      6.67\n",
       "4       6.4\n",
       "       ... \n",
       "376    6.15\n",
       "377     6.7\n",
       "378    6.57\n",
       "379     6.7\n",
       "380     6.4\n",
       "Name: Screen Size (inches), Length: 381, dtype: object"
      ]
     },
     "execution_count": 29,
     "metadata": {},
     "output_type": "execute_result"
    }
   ],
   "source": [
    "price['Screen Size (inches)']"
   ]
  },
  {
   "cell_type": "code",
   "execution_count": 30,
   "id": "166c4f74-eaae-474b-912d-8466fe319bb4",
   "metadata": {},
   "outputs": [
    {
     "data": {
      "text/plain": [
       "0      False\n",
       "1      False\n",
       "2      False\n",
       "3      False\n",
       "4      False\n",
       "       ...  \n",
       "376    False\n",
       "377    False\n",
       "378    False\n",
       "379    False\n",
       "380    False\n",
       "Name: Camera (MP), Length: 381, dtype: bool"
      ]
     },
     "execution_count": 30,
     "metadata": {},
     "output_type": "execute_result"
    }
   ],
   "source": [
    "price['Camera (MP)'].isnull()"
   ]
  },
  {
   "cell_type": "raw",
   "id": "bfc488b4-93ab-4ffa-ab4a-e3e6d9378a98",
   "metadata": {},
   "source": []
  },
  {
   "cell_type": "code",
   "execution_count": 31,
   "id": "bd4f4a39-3a24-4fcd-b0b7-50ac30d4bac7",
   "metadata": {},
   "outputs": [
    {
     "data": {
      "text/html": [
       "<div>\n",
       "<style scoped>\n",
       "    .dataframe tbody tr th:only-of-type {\n",
       "        vertical-align: middle;\n",
       "    }\n",
       "\n",
       "    .dataframe tbody tr th {\n",
       "        vertical-align: top;\n",
       "    }\n",
       "\n",
       "    .dataframe thead th {\n",
       "        text-align: right;\n",
       "    }\n",
       "</style>\n",
       "<table border=\"1\" class=\"dataframe\">\n",
       "  <thead>\n",
       "    <tr style=\"text-align: right;\">\n",
       "      <th></th>\n",
       "      <th>Brand</th>\n",
       "      <th>Model</th>\n",
       "      <th>Storage</th>\n",
       "      <th>RAM</th>\n",
       "      <th>Screen Size (inches)</th>\n",
       "      <th>Camera (MP)</th>\n",
       "      <th>Battery Capacity (mAh)</th>\n",
       "      <th>Price ($)</th>\n",
       "    </tr>\n",
       "  </thead>\n",
       "  <tbody>\n",
       "  </tbody>\n",
       "</table>\n",
       "</div>"
      ],
      "text/plain": [
       "Empty DataFrame\n",
       "Columns: [Brand, Model, Storage, RAM, Screen Size (inches), Camera (MP), Battery Capacity (mAh), Price ($)]\n",
       "Index: []"
      ]
     },
     "execution_count": 31,
     "metadata": {},
     "output_type": "execute_result"
    }
   ],
   "source": [
    "price[price['Camera (MP)']== '6.1']\n"
   ]
  },
  {
   "cell_type": "code",
   "execution_count": 32,
   "id": "97862010-600f-4153-a8b4-2428467137cc",
   "metadata": {},
   "outputs": [],
   "source": [
    "price['Camera (MP)']=price['Camera (MP)'].str.replace(' ','').str.replace('MP','')"
   ]
  },
  {
   "cell_type": "code",
   "execution_count": 33,
   "id": "c3e67ccb-92df-4775-8f1b-1f9608cdd1ae",
   "metadata": {},
   "outputs": [
    {
     "data": {
      "text/plain": [
       "0      NaN\n",
       "1       12\n",
       "2        2\n",
       "3        2\n",
       "4      NaN\n",
       "      ... \n",
       "376    NaN\n",
       "377    NaN\n",
       "378      2\n",
       "379    NaN\n",
       "380      2\n",
       "Name: Camera (MP), Length: 381, dtype: object"
      ]
     },
     "execution_count": 33,
     "metadata": {},
     "output_type": "execute_result"
    }
   ],
   "source": [
    "price['Camera (MP)'].str.split('+').str.get(3)"
   ]
  },
  {
   "cell_type": "code",
   "execution_count": 34,
   "id": "94596148-15de-4c3c-8765-a3bf17b50c7a",
   "metadata": {},
   "outputs": [],
   "source": [
    "price['Wide']=price['Camera (MP)'].str.split('+').str.get(0)\n",
    "price['Telephoto']=price['Camera (MP)'].str.split('+').str.get(1)\n",
    "price['Ultrawide']=price['Camera (MP)'].str.split('+').str.get(2)\n",
    "price['Macro']=price['Camera (MP)'].str.split('+').str.get(3)"
   ]
  },
  {
   "cell_type": "code",
   "execution_count": 35,
   "id": "4f63ed1b-4788-49dd-a3bf-38f95afdaa04",
   "metadata": {},
   "outputs": [
    {
     "data": {
      "text/plain": [
       "0       12\n",
       "1      108\n",
       "2       48\n",
       "3       64\n",
       "4       50\n",
       "      ... \n",
       "376     48\n",
       "377     12\n",
       "378     48\n",
       "379     12\n",
       "380     48\n",
       "Name: Wide, Length: 381, dtype: object"
      ]
     },
     "execution_count": 35,
     "metadata": {},
     "output_type": "execute_result"
    }
   ],
   "source": [
    "price['Wide']"
   ]
  },
  {
   "cell_type": "code",
   "execution_count": 36,
   "id": "570176a3-2ac8-4fe2-b99a-41bfcf1b8c16",
   "metadata": {},
   "outputs": [
    {
     "data": {
      "text/plain": [
       "0        12\n",
       "1        10\n",
       "2        50\n",
       "3         8\n",
       "4      12.2\n",
       "       ... \n",
       "376       8\n",
       "377      64\n",
       "378       8\n",
       "379      12\n",
       "380      13\n",
       "Name: Telephoto, Length: 381, dtype: object"
      ]
     },
     "execution_count": 36,
     "metadata": {},
     "output_type": "execute_result"
    }
   ],
   "source": [
    "price['Telephoto']"
   ]
  },
  {
   "cell_type": "code",
   "execution_count": 37,
   "id": "e35f9f0e-59e6-43af-83c8-15df0283a19f",
   "metadata": {},
   "outputs": [
    {
     "data": {
      "text/plain": [
       "Brand                       0\n",
       "Model                       0\n",
       "Storage                     0\n",
       "RAM                         0\n",
       "Screen Size (inches)        0\n",
       "Camera (MP)                 0\n",
       "Battery Capacity (mAh)      0\n",
       "Price ($)                   0\n",
       "Wide                        0\n",
       "Telephoto                   8\n",
       "Ultrawide                  74\n",
       "Macro                     243\n",
       "dtype: int64"
      ]
     },
     "execution_count": 37,
     "metadata": {},
     "output_type": "execute_result"
    }
   ],
   "source": [
    "price.isnull().sum()"
   ]
  },
  {
   "cell_type": "code",
   "execution_count": 38,
   "id": "eea4172f-17c1-41f2-9820-7bb66c3762e5",
   "metadata": {},
   "outputs": [],
   "source": [
    "price.fillna({'Telephoto':0 ,'Ultrawide':0,'Macro':0}, inplace=True)"
   ]
  },
  {
   "cell_type": "code",
   "execution_count": 39,
   "id": "89864e36-d1f3-4083-b533-6804653e812a",
   "metadata": {},
   "outputs": [
    {
     "data": {
      "text/plain": [
       "Brand                     0\n",
       "Model                     0\n",
       "Storage                   0\n",
       "RAM                       0\n",
       "Screen Size (inches)      0\n",
       "Camera (MP)               0\n",
       "Battery Capacity (mAh)    0\n",
       "Price ($)                 0\n",
       "Wide                      0\n",
       "Telephoto                 0\n",
       "Ultrawide                 0\n",
       "Macro                     0\n",
       "dtype: int64"
      ]
     },
     "execution_count": 39,
     "metadata": {},
     "output_type": "execute_result"
    }
   ],
   "source": [
    "price.isnull().sum()"
   ]
  },
  {
   "cell_type": "code",
   "execution_count": 40,
   "id": "14d0af01-518d-4ef5-b499-bbf8bcbd9d04",
   "metadata": {},
   "outputs": [
    {
     "data": {
      "text/html": [
       "<div>\n",
       "<style scoped>\n",
       "    .dataframe tbody tr th:only-of-type {\n",
       "        vertical-align: middle;\n",
       "    }\n",
       "\n",
       "    .dataframe tbody tr th {\n",
       "        vertical-align: top;\n",
       "    }\n",
       "\n",
       "    .dataframe thead th {\n",
       "        text-align: right;\n",
       "    }\n",
       "</style>\n",
       "<table border=\"1\" class=\"dataframe\">\n",
       "  <thead>\n",
       "    <tr style=\"text-align: right;\">\n",
       "      <th></th>\n",
       "      <th>Brand</th>\n",
       "      <th>Model</th>\n",
       "      <th>Storage</th>\n",
       "      <th>RAM</th>\n",
       "      <th>Screen Size (inches)</th>\n",
       "      <th>Camera (MP)</th>\n",
       "      <th>Battery Capacity (mAh)</th>\n",
       "      <th>Price ($)</th>\n",
       "      <th>Wide</th>\n",
       "      <th>Telephoto</th>\n",
       "      <th>Ultrawide</th>\n",
       "      <th>Macro</th>\n",
       "    </tr>\n",
       "  </thead>\n",
       "  <tbody>\n",
       "    <tr>\n",
       "      <th>354</th>\n",
       "      <td>Samsung</td>\n",
       "      <td>Galaxy Z Fold2 5G</td>\n",
       "      <td>256</td>\n",
       "      <td>12</td>\n",
       "      <td>7.6 (unfolded)</td>\n",
       "      <td>12+12+12</td>\n",
       "      <td>4500</td>\n",
       "      <td>1999</td>\n",
       "      <td>12</td>\n",
       "      <td>12</td>\n",
       "      <td>12</td>\n",
       "      <td>0</td>\n",
       "    </tr>\n",
       "  </tbody>\n",
       "</table>\n",
       "</div>"
      ],
      "text/plain": [
       "       Brand              Model Storage RAM Screen Size (inches) Camera (MP)  \\\n",
       "354  Samsung  Galaxy Z Fold2 5G     256  12       7.6 (unfolded)    12+12+12   \n",
       "\n",
       "     Battery Capacity (mAh) Price ($) Wide Telephoto Ultrawide Macro  \n",
       "354                    4500      1999   12        12        12     0  "
      ]
     },
     "execution_count": 40,
     "metadata": {},
     "output_type": "execute_result"
    }
   ],
   "source": [
    "price[price['Screen Size (inches)']=='7.6 (unfolded)']"
   ]
  },
  {
   "cell_type": "code",
   "execution_count": 41,
   "id": "fc0c788f-4de1-431d-b0b8-116f86ec9fac",
   "metadata": {},
   "outputs": [],
   "source": [
    "price.loc[354,'Screen Size (inches)']='7.6'"
   ]
  },
  {
   "cell_type": "code",
   "execution_count": 42,
   "id": "5c75b394-f515-43b2-910c-a2d81a9c8e5b",
   "metadata": {},
   "outputs": [
    {
     "data": {
      "text/html": [
       "<div>\n",
       "<style scoped>\n",
       "    .dataframe tbody tr th:only-of-type {\n",
       "        vertical-align: middle;\n",
       "    }\n",
       "\n",
       "    .dataframe tbody tr th {\n",
       "        vertical-align: top;\n",
       "    }\n",
       "\n",
       "    .dataframe thead th {\n",
       "        text-align: right;\n",
       "    }\n",
       "</style>\n",
       "<table border=\"1\" class=\"dataframe\">\n",
       "  <thead>\n",
       "    <tr style=\"text-align: right;\">\n",
       "      <th></th>\n",
       "      <th>Brand</th>\n",
       "      <th>Model</th>\n",
       "      <th>Storage</th>\n",
       "      <th>RAM</th>\n",
       "      <th>Screen Size (inches)</th>\n",
       "      <th>Camera (MP)</th>\n",
       "      <th>Battery Capacity (mAh)</th>\n",
       "      <th>Price ($)</th>\n",
       "      <th>Wide</th>\n",
       "      <th>Telephoto</th>\n",
       "      <th>Ultrawide</th>\n",
       "      <th>Macro</th>\n",
       "    </tr>\n",
       "  </thead>\n",
       "  <tbody>\n",
       "    <tr>\n",
       "      <th>86</th>\n",
       "      <td>LG</td>\n",
       "      <td>Wing</td>\n",
       "      <td>256</td>\n",
       "      <td>8</td>\n",
       "      <td>6.8 + 3.9</td>\n",
       "      <td>64+13+12</td>\n",
       "      <td>4000</td>\n",
       "      <td>$999</td>\n",
       "      <td>64</td>\n",
       "      <td>13</td>\n",
       "      <td>12</td>\n",
       "      <td>0</td>\n",
       "    </tr>\n",
       "  </tbody>\n",
       "</table>\n",
       "</div>"
      ],
      "text/plain": [
       "   Brand Model Storage RAM Screen Size (inches) Camera (MP)  \\\n",
       "86    LG  Wing     256   8            6.8 + 3.9    64+13+12   \n",
       "\n",
       "    Battery Capacity (mAh) Price ($) Wide Telephoto Ultrawide Macro  \n",
       "86                    4000     $999    64        13        12     0  "
      ]
     },
     "execution_count": 42,
     "metadata": {},
     "output_type": "execute_result"
    }
   ],
   "source": [
    "price[price['Screen Size (inches)']=='6.8 + 3.9']\n"
   ]
  },
  {
   "cell_type": "code",
   "execution_count": 43,
   "id": "584ef32c-dad1-43bc-95ae-333f7f5efd7f",
   "metadata": {},
   "outputs": [],
   "source": [
    "price.loc[86,'Screen Size (inches)']='6.8'"
   ]
  },
  {
   "cell_type": "code",
   "execution_count": 44,
   "id": "afde5ba4-3c0f-435f-97a2-a408e90d7f4c",
   "metadata": {},
   "outputs": [
    {
     "data": {
      "text/plain": [
       "Brand                     object\n",
       "Model                     object\n",
       "Storage                   object\n",
       "RAM                       object\n",
       "Screen Size (inches)      object\n",
       "Camera (MP)               object\n",
       "Battery Capacity (mAh)     int64\n",
       "Price ($)                 object\n",
       "Wide                      object\n",
       "Telephoto                 object\n",
       "Ultrawide                 object\n",
       "Macro                     object\n",
       "dtype: object"
      ]
     },
     "execution_count": 44,
     "metadata": {},
     "output_type": "execute_result"
    }
   ],
   "source": [
    "price.dtypes"
   ]
  },
  {
   "cell_type": "code",
   "execution_count": 45,
   "id": "35669c29-cefc-4df5-afbb-e08f46766b4b",
   "metadata": {},
   "outputs": [
    {
     "data": {
      "text/plain": [
       "0      3095\n",
       "1      5000\n",
       "2      4500\n",
       "3      5020\n",
       "4      4614\n",
       "       ... \n",
       "376    3340\n",
       "377    4300\n",
       "378    4160\n",
       "379    3687\n",
       "380    4025\n",
       "Name: Battery Capacity (mAh), Length: 381, dtype: int64"
      ]
     },
     "execution_count": 45,
     "metadata": {},
     "output_type": "execute_result"
    }
   ],
   "source": [
    "price['Battery Capacity (mAh)']"
   ]
  },
  {
   "cell_type": "code",
   "execution_count": 46,
   "id": "69de05c5-331d-43b9-971e-da3ee89d9465",
   "metadata": {},
   "outputs": [
    {
     "data": {
      "text/plain": [
       "array(['999', '1199', '899', '279', '799', '249', '699', '329', '449',\n",
       "       '199', '299', '379', '179', '729', '599', '139', '189', '399',\n",
       "       '259', '159', '229', '499', '129', '529', '369', '1099', '169',\n",
       "       '99', '459', '239', '1299', '429', '659', '269', '359', '$799 ',\n",
       "       '$399 ', '$699 ', '$329 ', '$999 ', '$549 ', '$1,299 ', '$899 ',\n",
       "       '$449 ', '$319 ', '$269 ', '$349 ', '$279 ', '$249 ', '$299 ',\n",
       "       '$969 ', '$1,199 ', '$149 ', '$139 ', '$99 ', '$199 ', '$169 ',\n",
       "       '$499 ', '$179 ', '$219 ', '$229 ', '$239 ', '$109 ', '$189 ',\n",
       "       '$389 ', '$309 ', '$369 ', '$129 ', '$849 ', '$469 ', '$209 ',\n",
       "       '$119 ', '$339 ', '$429 ', '$159 ', '$379 ', '$289 ', '130', '749',\n",
       "       '149', '969', '649', '349', '419', '1399', '1999', '119', '319',\n",
       "       '1049'], dtype=object)"
      ]
     },
     "execution_count": 46,
     "metadata": {},
     "output_type": "execute_result"
    }
   ],
   "source": [
    "price['Price ($)'].unique()"
   ]
  },
  {
   "cell_type": "code",
   "execution_count": 47,
   "id": "90c296aa-1432-4edb-944f-067d6affaba7",
   "metadata": {},
   "outputs": [],
   "source": [
    "price['Price ($)']=price['Price ($)'].str.replace('$', '').str.replace(',','')"
   ]
  },
  {
   "cell_type": "code",
   "execution_count": 48,
   "id": "e0d0d24d-400f-4869-aba5-d3e5886da2cd",
   "metadata": {},
   "outputs": [
    {
     "data": {
      "text/plain": [
       "array([0, '12', '2', '8', '5', '3', '10', '3D', 'ToF', '0.3'],\n",
       "      dtype=object)"
      ]
     },
     "execution_count": 48,
     "metadata": {},
     "output_type": "execute_result"
    }
   ],
   "source": [
    "price['Macro'].unique()"
   ]
  },
  {
   "cell_type": "code",
   "execution_count": 49,
   "id": "13d81d20-2289-4b80-81da-5b8788cba2fc",
   "metadata": {},
   "outputs": [],
   "source": [
    "price['Macro']=price['Macro'].str.replace(',', '').str.replace('MP','')"
   ]
  },
  {
   "cell_type": "code",
   "execution_count": 50,
   "id": "2b34f8b4-a0fc-471c-82ed-2b680bdebddf",
   "metadata": {},
   "outputs": [
    {
     "data": {
      "text/plain": [
       "array([nan, '12', '2', '8', '5', '3', '10', '3D', 'ToF', '0.3'],\n",
       "      dtype=object)"
      ]
     },
     "execution_count": 50,
     "metadata": {},
     "output_type": "execute_result"
    }
   ],
   "source": [
    "price['Macro'].unique()"
   ]
  },
  {
   "cell_type": "code",
   "execution_count": 51,
   "id": "24523dec-0297-461f-a44b-b128de4662b7",
   "metadata": {},
   "outputs": [],
   "source": [
    "price.fillna({'Macro':0},inplace=True)"
   ]
  },
  {
   "cell_type": "code",
   "execution_count": 52,
   "id": "3649f803-f409-4b06-be91-af6ca756e928",
   "metadata": {},
   "outputs": [
    {
     "data": {
      "text/plain": [
       "0       0\n",
       "1      12\n",
       "2       2\n",
       "3       2\n",
       "4       0\n",
       "       ..\n",
       "376     0\n",
       "377     0\n",
       "378     2\n",
       "379     0\n",
       "380     2\n",
       "Name: Macro, Length: 381, dtype: object"
      ]
     },
     "execution_count": 52,
     "metadata": {},
     "output_type": "execute_result"
    }
   ],
   "source": [
    "price['Macro']"
   ]
  },
  {
   "cell_type": "code",
   "execution_count": 53,
   "id": "a4c3848c-4ae9-48eb-8770-8ad98e1e7d7e",
   "metadata": {},
   "outputs": [
    {
     "data": {
      "text/plain": [
       "array([0, '12', '2', '8', '5', '3', '10', '3D', 'ToF', '0.3'],\n",
       "      dtype=object)"
      ]
     },
     "execution_count": 53,
     "metadata": {},
     "output_type": "execute_result"
    }
   ],
   "source": [
    "price['Macro'].unique()"
   ]
  },
  {
   "cell_type": "code",
   "execution_count": null,
   "id": "3a44f47a-9c27-4cc2-99c7-c5b5d81664d1",
   "metadata": {},
   "outputs": [],
   "source": []
  },
  {
   "cell_type": "code",
   "execution_count": 54,
   "id": "2ea0ed5c-eefd-4b46-a361-56d0044c112e",
   "metadata": {},
   "outputs": [
    {
     "data": {
      "text/plain": [
       "array([0, '12', '2', '8', '5', '3', '10', '3D', 'ToF', '0.3'],\n",
       "      dtype=object)"
      ]
     },
     "execution_count": 54,
     "metadata": {},
     "output_type": "execute_result"
    }
   ],
   "source": [
    "price['Macro'].unique()"
   ]
  },
  {
   "cell_type": "code",
   "execution_count": 55,
   "id": "3ef3b2f5-88c6-4998-be04-c55a1494edb6",
   "metadata": {},
   "outputs": [
    {
     "data": {
      "text/html": [
       "<div>\n",
       "<style scoped>\n",
       "    .dataframe tbody tr th:only-of-type {\n",
       "        vertical-align: middle;\n",
       "    }\n",
       "\n",
       "    .dataframe tbody tr th {\n",
       "        vertical-align: top;\n",
       "    }\n",
       "\n",
       "    .dataframe thead th {\n",
       "        text-align: right;\n",
       "    }\n",
       "</style>\n",
       "<table border=\"1\" class=\"dataframe\">\n",
       "  <thead>\n",
       "    <tr style=\"text-align: right;\">\n",
       "      <th></th>\n",
       "      <th>Brand</th>\n",
       "      <th>Model</th>\n",
       "      <th>Storage</th>\n",
       "      <th>RAM</th>\n",
       "      <th>Screen Size (inches)</th>\n",
       "      <th>Camera (MP)</th>\n",
       "      <th>Battery Capacity (mAh)</th>\n",
       "      <th>Price ($)</th>\n",
       "      <th>Wide</th>\n",
       "      <th>Telephoto</th>\n",
       "      <th>Ultrawide</th>\n",
       "      <th>Macro</th>\n",
       "    </tr>\n",
       "  </thead>\n",
       "  <tbody>\n",
       "    <tr>\n",
       "      <th>280</th>\n",
       "      <td>Huawei</td>\n",
       "      <td>Mate 40 Pro</td>\n",
       "      <td>256</td>\n",
       "      <td>8</td>\n",
       "      <td>6.76</td>\n",
       "      <td>50+20+12+3D</td>\n",
       "      <td>4400</td>\n",
       "      <td>1199</td>\n",
       "      <td>50</td>\n",
       "      <td>20</td>\n",
       "      <td>12</td>\n",
       "      <td>3D</td>\n",
       "    </tr>\n",
       "    <tr>\n",
       "      <th>300</th>\n",
       "      <td>Huawei</td>\n",
       "      <td>P40 Pro</td>\n",
       "      <td>256</td>\n",
       "      <td>8</td>\n",
       "      <td>6.58</td>\n",
       "      <td>50+12+40+3D</td>\n",
       "      <td>4200</td>\n",
       "      <td>1099</td>\n",
       "      <td>50</td>\n",
       "      <td>12</td>\n",
       "      <td>40</td>\n",
       "      <td>3D</td>\n",
       "    </tr>\n",
       "    <tr>\n",
       "      <th>318</th>\n",
       "      <td>Huawei</td>\n",
       "      <td>Mate 30 Pro 5G</td>\n",
       "      <td>256</td>\n",
       "      <td>8</td>\n",
       "      <td>6.53</td>\n",
       "      <td>40+40+8+3D</td>\n",
       "      <td>4500</td>\n",
       "      <td>1099</td>\n",
       "      <td>40</td>\n",
       "      <td>40</td>\n",
       "      <td>8</td>\n",
       "      <td>3D</td>\n",
       "    </tr>\n",
       "    <tr>\n",
       "      <th>343</th>\n",
       "      <td>Huawei</td>\n",
       "      <td>P40 Pro+</td>\n",
       "      <td>512</td>\n",
       "      <td>8</td>\n",
       "      <td>6.58</td>\n",
       "      <td>50+40+12+3D</td>\n",
       "      <td>4200</td>\n",
       "      <td>1399</td>\n",
       "      <td>50</td>\n",
       "      <td>40</td>\n",
       "      <td>12</td>\n",
       "      <td>3D</td>\n",
       "    </tr>\n",
       "    <tr>\n",
       "      <th>348</th>\n",
       "      <td>Samsung</td>\n",
       "      <td>Galaxy S20 Ultra 5G</td>\n",
       "      <td>512</td>\n",
       "      <td>16</td>\n",
       "      <td>6.9</td>\n",
       "      <td>108+48+12+3D</td>\n",
       "      <td>5000</td>\n",
       "      <td>1399</td>\n",
       "      <td>108</td>\n",
       "      <td>48</td>\n",
       "      <td>12</td>\n",
       "      <td>3D</td>\n",
       "    </tr>\n",
       "    <tr>\n",
       "      <th>357</th>\n",
       "      <td>Huawei</td>\n",
       "      <td>P40 Pro</td>\n",
       "      <td>256</td>\n",
       "      <td>8</td>\n",
       "      <td>6.58</td>\n",
       "      <td>50+12+40+3D</td>\n",
       "      <td>4200</td>\n",
       "      <td>999</td>\n",
       "      <td>50</td>\n",
       "      <td>12</td>\n",
       "      <td>40</td>\n",
       "      <td>3D</td>\n",
       "    </tr>\n",
       "  </tbody>\n",
       "</table>\n",
       "</div>"
      ],
      "text/plain": [
       "       Brand                Model Storage RAM Screen Size (inches)  \\\n",
       "280   Huawei          Mate 40 Pro     256   8                 6.76   \n",
       "300   Huawei              P40 Pro     256   8                 6.58   \n",
       "318   Huawei       Mate 30 Pro 5G     256   8                 6.53   \n",
       "343   Huawei             P40 Pro+     512   8                 6.58   \n",
       "348  Samsung  Galaxy S20 Ultra 5G     512  16                  6.9   \n",
       "357   Huawei              P40 Pro     256   8                 6.58   \n",
       "\n",
       "      Camera (MP)  Battery Capacity (mAh) Price ($) Wide Telephoto Ultrawide  \\\n",
       "280   50+20+12+3D                    4400      1199   50        20        12   \n",
       "300   50+12+40+3D                    4200      1099   50        12        40   \n",
       "318    40+40+8+3D                    4500      1099   40        40         8   \n",
       "343   50+40+12+3D                    4200      1399   50        40        12   \n",
       "348  108+48+12+3D                    5000      1399  108        48        12   \n",
       "357   50+12+40+3D                    4200       999   50        12        40   \n",
       "\n",
       "    Macro  \n",
       "280    3D  \n",
       "300    3D  \n",
       "318    3D  \n",
       "343    3D  \n",
       "348    3D  \n",
       "357    3D  "
      ]
     },
     "execution_count": 55,
     "metadata": {},
     "output_type": "execute_result"
    }
   ],
   "source": [
    "price[price['Macro']=='3D']"
   ]
  },
  {
   "cell_type": "code",
   "execution_count": 56,
   "id": "c079858c-1361-407c-bd00-8d3ac9794b8e",
   "metadata": {},
   "outputs": [
    {
     "data": {
      "text/html": [
       "<div>\n",
       "<style scoped>\n",
       "    .dataframe tbody tr th:only-of-type {\n",
       "        vertical-align: middle;\n",
       "    }\n",
       "\n",
       "    .dataframe tbody tr th {\n",
       "        vertical-align: top;\n",
       "    }\n",
       "\n",
       "    .dataframe thead th {\n",
       "        text-align: right;\n",
       "    }\n",
       "</style>\n",
       "<table border=\"1\" class=\"dataframe\">\n",
       "  <thead>\n",
       "    <tr style=\"text-align: right;\">\n",
       "      <th></th>\n",
       "      <th>Brand</th>\n",
       "      <th>Model</th>\n",
       "      <th>Storage</th>\n",
       "      <th>RAM</th>\n",
       "      <th>Screen Size (inches)</th>\n",
       "      <th>Camera (MP)</th>\n",
       "      <th>Battery Capacity (mAh)</th>\n",
       "      <th>Price ($)</th>\n",
       "      <th>Wide</th>\n",
       "      <th>Telephoto</th>\n",
       "      <th>Ultrawide</th>\n",
       "      <th>Macro</th>\n",
       "    </tr>\n",
       "  </thead>\n",
       "  <tbody>\n",
       "    <tr>\n",
       "      <th>327</th>\n",
       "      <td>Huawei</td>\n",
       "      <td>P30 Pro</td>\n",
       "      <td>256</td>\n",
       "      <td>8</td>\n",
       "      <td>6.47</td>\n",
       "      <td>40+20+8+ToF</td>\n",
       "      <td>4200</td>\n",
       "      <td>999</td>\n",
       "      <td>40</td>\n",
       "      <td>20</td>\n",
       "      <td>8</td>\n",
       "      <td>ToF</td>\n",
       "    </tr>\n",
       "  </tbody>\n",
       "</table>\n",
       "</div>"
      ],
      "text/plain": [
       "      Brand    Model Storage RAM Screen Size (inches)  Camera (MP)  \\\n",
       "327  Huawei  P30 Pro     256   8                 6.47  40+20+8+ToF   \n",
       "\n",
       "     Battery Capacity (mAh) Price ($) Wide Telephoto Ultrawide Macro  \n",
       "327                    4200       999   40        20         8   ToF  "
      ]
     },
     "execution_count": 56,
     "metadata": {},
     "output_type": "execute_result"
    }
   ],
   "source": [
    "price[price['Macro']=='ToF']"
   ]
  },
  {
   "cell_type": "code",
   "execution_count": null,
   "id": "5e7d0f3b-5de2-4116-bfa5-528b77becd7d",
   "metadata": {},
   "outputs": [],
   "source": []
  },
  {
   "cell_type": "code",
   "execution_count": null,
   "id": "bdd6cdb3-a3f5-4b7f-97eb-e73a4ff116a9",
   "metadata": {},
   "outputs": [],
   "source": []
  },
  {
   "cell_type": "code",
   "execution_count": null,
   "id": "09d6b9a2-d38b-4adc-87f1-dbb1c40b57fa",
   "metadata": {},
   "outputs": [],
   "source": []
  },
  {
   "cell_type": "code",
   "execution_count": null,
   "id": "f26cd4a6-3733-4cc4-aca4-09eaae17b271",
   "metadata": {},
   "outputs": [],
   "source": []
  }
 ],
 "metadata": {
  "kernelspec": {
   "display_name": "Python 3 (ipykernel)",
   "language": "python",
   "name": "python3"
  },
  "language_info": {
   "codemirror_mode": {
    "name": "ipython",
    "version": 3
   },
   "file_extension": ".py",
   "mimetype": "text/x-python",
   "name": "python",
   "nbconvert_exporter": "python",
   "pygments_lexer": "ipython3",
   "version": "3.11.5"
  }
 },
 "nbformat": 4,
 "nbformat_minor": 5
}
