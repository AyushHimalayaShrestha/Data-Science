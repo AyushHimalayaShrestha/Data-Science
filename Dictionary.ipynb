{
 "cells": [
  {
   "cell_type": "code",
   "execution_count": 8,
   "id": "b1127f2d-40fd-4468-9679-2969b6bb1bb1",
   "metadata": {},
   "outputs": [],
   "source": [
    "student={\n",
    "    'Name': 'Ayush Shrestha',\n",
    "    'Address':'Balaju',\n",
    "    'Email': 'aayush625@gmail.com',\n",
    "    'Contact No.':987654321\n",
    "}"
   ]
  },
  {
   "cell_type": "code",
   "execution_count": 10,
   "id": "cd0d37ae-3bd1-443b-a121-547d9fed0711",
   "metadata": {},
   "outputs": [
    {
     "data": {
      "text/plain": [
       "{'Name': 'Ayush Shrestha',\n",
       " 'Address': 'Balaju',\n",
       " 'Email': 'aayush625@gmail.com',\n",
       " 'Contact No.': 987654321}"
      ]
     },
     "execution_count": 10,
     "metadata": {},
     "output_type": "execute_result"
    }
   ],
   "source": [
    "student"
   ]
  },
  {
   "cell_type": "code",
   "execution_count": 12,
   "id": "f7af0285-9e55-4785-9dec-3d1a4e5bc2ec",
   "metadata": {},
   "outputs": [
    {
     "data": {
      "text/plain": [
       "'Balaju'"
      ]
     },
     "execution_count": 12,
     "metadata": {},
     "output_type": "execute_result"
    }
   ],
   "source": [
    "student.pop('Address')"
   ]
  },
  {
   "cell_type": "code",
   "execution_count": 18,
   "id": "fb051cf0-807c-49cc-b3fa-c935ab39f733",
   "metadata": {},
   "outputs": [
    {
     "data": {
      "text/plain": [
       "{'Name': 'Ayush Shrestha',\n",
       " 'Email': 'aayush625@gmail.com',\n",
       " 'Contact No.': 987654321}"
      ]
     },
     "execution_count": 18,
     "metadata": {},
     "output_type": "execute_result"
    }
   ],
   "source": [
    "student\n"
   ]
  },
  {
   "cell_type": "code",
   "execution_count": 26,
   "id": "194bdd49-272c-4de0-a2bd-afca85a865b9",
   "metadata": {},
   "outputs": [],
   "source": [
    "std=('Hyundai','Suzuki','Mitsubishi','Volkswagen','Kia','Toyota')"
   ]
  }
 ],
 "metadata": {
  "kernelspec": {
   "display_name": "Python 3 (ipykernel)",
   "language": "python",
   "name": "python3"
  },
  "language_info": {
   "codemirror_mode": {
    "name": "ipython",
    "version": 3
   },
   "file_extension": ".py",
   "mimetype": "text/x-python",
   "name": "python",
   "nbconvert_exporter": "python",
   "pygments_lexer": "ipython3",
   "version": "3.11.5"
  }
 },
 "nbformat": 4,
 "nbformat_minor": 5
}
