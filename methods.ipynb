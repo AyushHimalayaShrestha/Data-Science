{
 "cells": [
  {
   "cell_type": "code",
   "execution_count": 20,
   "id": "4a0e2958-2512-4fe9-a4f5-9a8aac4136cc",
   "metadata": {},
   "outputs": [
    {
     "name": "stdout",
     "output_type": "stream",
     "text": [
      "The Radius of circle is 10\n",
      "The area of circle is 314.0\n"
     ]
    }
   ],
   "source": [
    "class Circle:\n",
    "    PI=3.14\n",
    "    def __init__(self,rad):\n",
    "        self.rad=rad\n",
    "\n",
    "    def showRadius(self):\n",
    "        print(f'The Radius of circle is {self.rad}')\n",
    "        \n",
    "    def area(self):\n",
    "        area=self.PI*self.rad**2\n",
    "        return area\n",
    "\n",
    "circle1=Circle(10)\n",
    "circle1.showRadius()\n",
    "\n",
    "rsArea=circle1.area()\n",
    "print(f'The area of circle is {rsArea}')\n",
    "    "
   ]
  },
  {
   "cell_type": "code",
   "execution_count": null,
   "id": "f9d23859-564b-4d30-9665-2dfcd3eb8a93",
   "metadata": {},
   "outputs": [],
   "source": [
    "#Access Modifier\n",
    "- python access modifiers are used to modify the default scope of a variable/attribute.\n",
    "1. Public : by default, it can be access from inside and outside of class.\n",
    "2. Private : '__' makes a variable private means secure variable which van only access within class.\n",
    "3. Protected : '-' makes a variable protected which means it can only be accessible within class and subclass."
   ]
  },
  {
   "cell_type": "code",
   "execution_count": 44,
   "id": "08e797b6-3e57-44b1-a619-869b6d99f8d2",
   "metadata": {},
   "outputs": [
    {
     "name": "stdout",
     "output_type": "stream",
     "text": [
      "a : 10\n",
      "b : 20\n",
      "c : 30\n"
     ]
    },
    {
     "data": {
      "text/plain": [
       "30"
      ]
     },
     "execution_count": 44,
     "metadata": {},
     "output_type": "execute_result"
    }
   ],
   "source": [
    "class AccessTest:\n",
    "    def __init__(self,a,b,c):\n",
    "        self.a=a\n",
    "        self.__b=b\n",
    "        self._c=c\n",
    "    def display(self):\n",
    "        print(f'a : {self.a}')\n",
    "        print(f'b : {self.__b}')\n",
    "        print(f'c : {self._c}')\n",
    "\n",
    "test1=AccessTest(10,20,30)\n",
    "test1.display()\n",
    "test1.a\n",
    "# test1.__b\n",
    "test1._c\n",
    "\n",
    "        "
   ]
  },
  {
   "cell_type": "code",
   "execution_count": null,
   "id": "26f5adbc-9b61-4180-8f9e-1f3e308360a7",
   "metadata": {},
   "outputs": [],
   "source": [
    "# class & instance variable\n",
    "- class variable is declared inside a class.\n",
    "- instance variable is such, that declared inside method with self."
   ]
  },
  {
   "cell_type": "code",
   "execution_count": 50,
   "id": "236a6738-23eb-4790-9882-98c43bfa6dd3",
   "metadata": {},
   "outputs": [
    {
     "name": "stdout",
     "output_type": "stream",
     "text": [
      "Account Number:  101\n",
      "Name:  Ayush\n",
      "Balance:  10000000\n",
      "Account Number:  102\n",
      "Name:  Hari\n",
      "Balance:  120000\n"
     ]
    }
   ],
   "source": [
    "class Account:\n",
    "    minBal=1000 #class variable\n",
    "    def __init__(self,accNo,name,balance):\n",
    "        self.accNo = accNo\n",
    "        self.name = name\n",
    "        self.balance = balance\n",
    "\n",
    "    def display(self):\n",
    "        print('Account Number: ' ,self.accNo)\n",
    "        print('Name: ' ,self.name)\n",
    "        print('Balance: ' ,self.balance)\n",
    "\n",
    "acc1=Account(101,'Ayush',10000000)\n",
    "acc2=Account(102,'Hari',120000)\n",
    "acc1.display()\n",
    "acc1.name\n",
    "acc2.display()\n",
    "\n",
    "\n"
   ]
  },
  {
   "cell_type": "code",
   "execution_count": null,
   "id": "a75a8ded-aa36-44a9-a3a5-fdea5614c370",
   "metadata": {},
   "outputs": [],
   "source": []
  },
  {
   "cell_type": "code",
   "execution_count": null,
   "id": "375d4128-e346-4e1c-8473-d14cbdf1077f",
   "metadata": {},
   "outputs": [],
   "source": [
    "#instance,class and static method\n",
    "- class method is not bound to an instance of class(object) but to the class itself. We can use @classmethod decorator. We can use 'cls' keyword as first parameter of method in the place of self,\n",
    "- instance method is same as previously defined method which use 'self' keyword as first parameter.\n",
    "- static method cannot access both class and instance attribute. For this, we can use '@staticmethod' decorator. There is no need for first parameter neither cls nor self. static method is used as utility or helper function"
   ]
  },
  {
   "cell_type": "code",
   "execution_count": 76,
   "id": "18154034-f8ea-443c-99a7-fa6eaf5b1fbf",
   "metadata": {},
   "outputs": [
    {
     "name": "stdout",
     "output_type": "stream",
     "text": [
      "Account Number:  101\n",
      "Name:  Ayush\n",
      "Balance:  235780\n",
      "Min Balance:  1000\n",
      "240780\n"
     ]
    }
   ],
   "source": [
    "class Account:\n",
    "    minBal=1000 #class variable\n",
    "    def __init__(self,accNo,name,balance):\n",
    "        self.accNo = accNo\n",
    "        self.name = name\n",
    "        self.balance = balance\n",
    "\n",
    "    def display(self):\n",
    "        print('Account Number: ' ,self.accNo)\n",
    "        print('Name: ' ,self.name)\n",
    "        print('Balance: ' ,self.balance)\n",
    "\n",
    "    @staticmethod\n",
    "    def checkBalance(bal,amt):\n",
    "        if amt>=bal:\n",
    "            return -1\n",
    "        else:\n",
    "            return 1\n",
    "\n",
    "    @classmethod\n",
    "    def disMinBal(cls):\n",
    "        print('Min Balance: ',cls.minBal)\n",
    "\n",
    "    def deposit(self,amt):\n",
    "        self.balance+=amt\n",
    "        print(self.balance)\n",
    "\n",
    "    def withDraw(self,amt):\n",
    "        rs =self.checkBalance(self.balance, amt)\n",
    "        if rs == -1:\n",
    "            print('You donot have sufficeint balance.')\n",
    "\n",
    "        else:\n",
    "            self.balance-=amt\n",
    "\n",
    "acc1=Account(101,'Ayush',235780)\n",
    "acc2=Account(102,'Hari',120000)\n",
    "\n",
    "acc1.display()\n",
    "acc1.disMinBal()\n",
    "acc1.deposit(5000)\n",
    "\n",
    "acc1.withDraw(23000)\n",
    "\n"
   ]
  },
  {
   "cell_type": "code",
   "execution_count": null,
   "id": "27dadf9b-34ec-4b30-aaf7-3baa8e58842c",
   "metadata": {},
   "outputs": [],
   "source": [
    "#inheritance\n",
    "- it is a process by which one class takes access an attribute and methods of another class.\n",
    "- newly formed classes are called child or derived class.\n",
    "- a class from where new class is formed called parent or base class.\n",
    "- The main advantage of inheritance is that it makes code reusable and saves lots of time and money during software development.\n",
    "\n",
    "#Types:\n",
    "    1.Single\n",
    "    2.Multiple\n",
    "    3.Multilevel\n",
    "    4.Hierachical\n",
    "    5.Hybrid\n"
   ]
  },
  {
   "cell_type": "code",
   "execution_count": null,
   "id": "13bc248b-2cad-4bf4-9ec8-7fe32c318bb9",
   "metadata": {},
   "outputs": [],
   "source": [
    "#Single Inheritance\n",
    "-One Parent class having multiple child class"
   ]
  },
  {
   "cell_type": "code",
   "execution_count": 94,
   "id": "874f1533-9a7f-4de1-ae58-cdde8a0e7a61",
   "metadata": {},
   "outputs": [
    {
     "name": "stdout",
     "output_type": "stream",
     "text": [
      "Enter Id, Name, Salary: \n"
     ]
    },
    {
     "name": "stdin",
     "output_type": "stream",
     "text": [
      "EID:  12\n",
      "EName:  Ram\n",
      "Salary:  23000\n",
      "Enter Typing Speed:  50\n"
     ]
    },
    {
     "name": "stdout",
     "output_type": "stream",
     "text": [
      "EID 12\n",
      "ENAME Ram\n",
      "Salary 23000.0\n",
      "Typing Speed:  50\n"
     ]
    }
   ],
   "source": [
    "class Employee:\n",
    "    def __init__(self):\n",
    "        self.eid=None\n",
    "        self.ename=\" \"\n",
    "        self.salary=0\n",
    "\n",
    "    def getData(self):\n",
    "        print('Enter Id, Name, Salary: ')\n",
    "        self.eid=int(input('EID: '))\n",
    "        self.ename=input('EName: ')\n",
    "        self.salary=float(input(\"Salary: \"))\n",
    "\n",
    "    def display(self):\n",
    "        print('EID', self.eid)\n",
    "        print('ENAME', self.ename)\n",
    "        print('Salary', self.salary)\n",
    "\n",
    "class Typist(Employee):\n",
    "    def __init__(self):\n",
    "        self.ts=0\n",
    "\n",
    "    def getData(self):\n",
    "        super(Typist,self).getData()\n",
    "        self.ts=int(input('Enter Typing Speed: '))\n",
    "\n",
    "    def display(self):\n",
    "        super(Typist,self).display()\n",
    "        print('Typing Speed: ', self.ts)\n",
    "\n",
    "\n",
    "emp1=Typist()\n",
    "emp1.getData()\n",
    "emp1.display()"
   ]
  },
  {
   "cell_type": "code",
   "execution_count": 96,
   "id": "cbb4c550-c2a0-4db3-aa5d-baadcda9990f",
   "metadata": {},
   "outputs": [
    {
     "name": "stdout",
     "output_type": "stream",
     "text": [
      "Hello\n",
      "From Class B\n",
      "Class C\n"
     ]
    }
   ],
   "source": [
    "#multilevel inheritance\n",
    "class A:\n",
    "    def __init__(self):\n",
    "        print('Hello')\n",
    "class B(A):\n",
    "    def __init__(self):\n",
    "        super(B,self).__init__()\n",
    "        print('From Class B')\n",
    "\n",
    "class C(B):\n",
    "    def __init__(self):\n",
    "        super(C,self).__init__()\n",
    "        print('Class C')\n",
    "\n",
    "c=C()\n",
    "    "
   ]
  },
  {
   "cell_type": "code",
   "execution_count": null,
   "id": "9949731c-2e37-4a9b-a687-e68952901038",
   "metadata": {},
   "outputs": [
    {
     "name": "stdin",
     "output_type": "stream",
     "text": [
      "Enter I id:  1\n",
      "Enter I name:  Ram\n"
     ]
    }
   ],
   "source": [
    "#Multiple Inheritance\n",
    "class Instructor:\n",
    "    def __init__(self):\n",
    "        self.id=None\n",
    "        self.name=None\n",
    "        self.post=None\n",
    "\n",
    "    def getData(self):\n",
    "        self.id=int(input('Enter I id: '))\n",
    "        self.name=input('Enter I name: ')\n",
    "        self.post=input('Enter I post: ')\n",
    "\n",
    "    def display(self):\n",
    "        print('Instructor Id: ', self.id)\n",
    "        print('Instructor Name: ', self.name)\n",
    "        print('Instructor Post: ', self.post)\n",
    "\n",
    "class Student:\n",
    "    def __init__(self):\n",
    "        self.sid=None\n",
    "        self.sname=None\n",
    "        self.level=None\n",
    "\n",
    "    def getData(self):\n",
    "        self.sid=int(input('Enter S id: '))\n",
    "        self.sname=input('Enter S name: ')\n",
    "        self.slevel=input('Enter S level: ')\n",
    "\n",
    "    def display(self):\n",
    "        print('Student Id: ',self.sid)\n",
    "        print('Student Name: ',self.sname)\n",
    "        print('Student Level: ',self.level)\n",
    "\n",
    "class TA(Instructor, Student):\n",
    "    def __init__(self):\n",
    "        self.professor=None\n",
    "\n",
    "    def getData(self):\n",
    "        Instructor.getData(self)\n",
    "        Student.getData(self)\n",
    "        self.prof=input('Enter Prof Name: ')\n",
    "\n",
    "    def display(self):\n",
    "        Instructor.display(self)\n",
    "        Student.display(self)\n",
    "        print('Prof Name',self.professor)\n",
    "\n",
    "ta1=TA()\n",
    "ta1.getData()\n",
    "    "
   ]
  }
 ],
 "metadata": {
  "kernelspec": {
   "display_name": "Python 3 (ipykernel)",
   "language": "python",
   "name": "python3"
  },
  "language_info": {
   "codemirror_mode": {
    "name": "ipython",
    "version": 3
   },
   "file_extension": ".py",
   "mimetype": "text/x-python",
   "name": "python",
   "nbconvert_exporter": "python",
   "pygments_lexer": "ipython3",
   "version": "3.11.5"
  }
 },
 "nbformat": 4,
 "nbformat_minor": 5
}
